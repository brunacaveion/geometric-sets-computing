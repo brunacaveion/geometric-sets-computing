{
 "cells": [
  {
   "cell_type": "code",
   "execution_count": 74,
   "metadata": {},
   "outputs": [],
   "source": [
    "import pandas as pd\n",
    "import numpy as np\n",
    "from scipy.spatial.distance import pdist, squareform\n",
    "import itertools\n",
    "import matplotlib.pyplot as plt"
   ]
  },
  {
   "cell_type": "markdown",
   "metadata": {},
   "source": [
    "# Zoo data set"
   ]
  },
  {
   "cell_type": "code",
   "execution_count": 2,
   "metadata": {},
   "outputs": [
    {
     "data": {
      "text/html": [
       "<div>\n",
       "<style scoped>\n",
       "    .dataframe tbody tr th:only-of-type {\n",
       "        vertical-align: middle;\n",
       "    }\n",
       "\n",
       "    .dataframe tbody tr th {\n",
       "        vertical-align: top;\n",
       "    }\n",
       "\n",
       "    .dataframe thead th {\n",
       "        text-align: right;\n",
       "    }\n",
       "</style>\n",
       "<table border=\"1\" class=\"dataframe\">\n",
       "  <thead>\n",
       "    <tr style=\"text-align: right;\">\n",
       "      <th></th>\n",
       "      <th>aardvark</th>\n",
       "      <th>1</th>\n",
       "      <th>0</th>\n",
       "      <th>0.1</th>\n",
       "      <th>1.1</th>\n",
       "      <th>0.2</th>\n",
       "      <th>0.3</th>\n",
       "      <th>1.2</th>\n",
       "      <th>1.3</th>\n",
       "      <th>1.4</th>\n",
       "      <th>1.5</th>\n",
       "      <th>0.4</th>\n",
       "      <th>0.5</th>\n",
       "      <th>4</th>\n",
       "      <th>0.6</th>\n",
       "      <th>0.7</th>\n",
       "      <th>1.6</th>\n",
       "      <th>1.7</th>\n",
       "    </tr>\n",
       "  </thead>\n",
       "  <tbody>\n",
       "    <tr>\n",
       "      <th>0</th>\n",
       "      <td>antelope</td>\n",
       "      <td>1</td>\n",
       "      <td>0</td>\n",
       "      <td>0</td>\n",
       "      <td>1</td>\n",
       "      <td>0</td>\n",
       "      <td>0</td>\n",
       "      <td>0</td>\n",
       "      <td>1</td>\n",
       "      <td>1</td>\n",
       "      <td>1</td>\n",
       "      <td>0</td>\n",
       "      <td>0</td>\n",
       "      <td>4</td>\n",
       "      <td>1</td>\n",
       "      <td>0</td>\n",
       "      <td>1</td>\n",
       "      <td>1</td>\n",
       "    </tr>\n",
       "    <tr>\n",
       "      <th>1</th>\n",
       "      <td>bass</td>\n",
       "      <td>0</td>\n",
       "      <td>0</td>\n",
       "      <td>1</td>\n",
       "      <td>0</td>\n",
       "      <td>0</td>\n",
       "      <td>1</td>\n",
       "      <td>1</td>\n",
       "      <td>1</td>\n",
       "      <td>1</td>\n",
       "      <td>0</td>\n",
       "      <td>0</td>\n",
       "      <td>1</td>\n",
       "      <td>0</td>\n",
       "      <td>1</td>\n",
       "      <td>0</td>\n",
       "      <td>0</td>\n",
       "      <td>4</td>\n",
       "    </tr>\n",
       "    <tr>\n",
       "      <th>2</th>\n",
       "      <td>bear</td>\n",
       "      <td>1</td>\n",
       "      <td>0</td>\n",
       "      <td>0</td>\n",
       "      <td>1</td>\n",
       "      <td>0</td>\n",
       "      <td>0</td>\n",
       "      <td>1</td>\n",
       "      <td>1</td>\n",
       "      <td>1</td>\n",
       "      <td>1</td>\n",
       "      <td>0</td>\n",
       "      <td>0</td>\n",
       "      <td>4</td>\n",
       "      <td>0</td>\n",
       "      <td>0</td>\n",
       "      <td>1</td>\n",
       "      <td>1</td>\n",
       "    </tr>\n",
       "    <tr>\n",
       "      <th>3</th>\n",
       "      <td>boar</td>\n",
       "      <td>1</td>\n",
       "      <td>0</td>\n",
       "      <td>0</td>\n",
       "      <td>1</td>\n",
       "      <td>0</td>\n",
       "      <td>0</td>\n",
       "      <td>1</td>\n",
       "      <td>1</td>\n",
       "      <td>1</td>\n",
       "      <td>1</td>\n",
       "      <td>0</td>\n",
       "      <td>0</td>\n",
       "      <td>4</td>\n",
       "      <td>1</td>\n",
       "      <td>0</td>\n",
       "      <td>1</td>\n",
       "      <td>1</td>\n",
       "    </tr>\n",
       "    <tr>\n",
       "      <th>4</th>\n",
       "      <td>buffalo</td>\n",
       "      <td>1</td>\n",
       "      <td>0</td>\n",
       "      <td>0</td>\n",
       "      <td>1</td>\n",
       "      <td>0</td>\n",
       "      <td>0</td>\n",
       "      <td>0</td>\n",
       "      <td>1</td>\n",
       "      <td>1</td>\n",
       "      <td>1</td>\n",
       "      <td>0</td>\n",
       "      <td>0</td>\n",
       "      <td>4</td>\n",
       "      <td>1</td>\n",
       "      <td>0</td>\n",
       "      <td>1</td>\n",
       "      <td>1</td>\n",
       "    </tr>\n",
       "    <tr>\n",
       "      <th>...</th>\n",
       "      <td>...</td>\n",
       "      <td>...</td>\n",
       "      <td>...</td>\n",
       "      <td>...</td>\n",
       "      <td>...</td>\n",
       "      <td>...</td>\n",
       "      <td>...</td>\n",
       "      <td>...</td>\n",
       "      <td>...</td>\n",
       "      <td>...</td>\n",
       "      <td>...</td>\n",
       "      <td>...</td>\n",
       "      <td>...</td>\n",
       "      <td>...</td>\n",
       "      <td>...</td>\n",
       "      <td>...</td>\n",
       "      <td>...</td>\n",
       "      <td>...</td>\n",
       "    </tr>\n",
       "    <tr>\n",
       "      <th>95</th>\n",
       "      <td>wallaby</td>\n",
       "      <td>1</td>\n",
       "      <td>0</td>\n",
       "      <td>0</td>\n",
       "      <td>1</td>\n",
       "      <td>0</td>\n",
       "      <td>0</td>\n",
       "      <td>0</td>\n",
       "      <td>1</td>\n",
       "      <td>1</td>\n",
       "      <td>1</td>\n",
       "      <td>0</td>\n",
       "      <td>0</td>\n",
       "      <td>2</td>\n",
       "      <td>1</td>\n",
       "      <td>0</td>\n",
       "      <td>1</td>\n",
       "      <td>1</td>\n",
       "    </tr>\n",
       "    <tr>\n",
       "      <th>96</th>\n",
       "      <td>wasp</td>\n",
       "      <td>1</td>\n",
       "      <td>0</td>\n",
       "      <td>1</td>\n",
       "      <td>0</td>\n",
       "      <td>1</td>\n",
       "      <td>0</td>\n",
       "      <td>0</td>\n",
       "      <td>0</td>\n",
       "      <td>0</td>\n",
       "      <td>1</td>\n",
       "      <td>1</td>\n",
       "      <td>0</td>\n",
       "      <td>6</td>\n",
       "      <td>0</td>\n",
       "      <td>0</td>\n",
       "      <td>0</td>\n",
       "      <td>6</td>\n",
       "    </tr>\n",
       "    <tr>\n",
       "      <th>97</th>\n",
       "      <td>wolf</td>\n",
       "      <td>1</td>\n",
       "      <td>0</td>\n",
       "      <td>0</td>\n",
       "      <td>1</td>\n",
       "      <td>0</td>\n",
       "      <td>0</td>\n",
       "      <td>1</td>\n",
       "      <td>1</td>\n",
       "      <td>1</td>\n",
       "      <td>1</td>\n",
       "      <td>0</td>\n",
       "      <td>0</td>\n",
       "      <td>4</td>\n",
       "      <td>1</td>\n",
       "      <td>0</td>\n",
       "      <td>1</td>\n",
       "      <td>1</td>\n",
       "    </tr>\n",
       "    <tr>\n",
       "      <th>98</th>\n",
       "      <td>worm</td>\n",
       "      <td>0</td>\n",
       "      <td>0</td>\n",
       "      <td>1</td>\n",
       "      <td>0</td>\n",
       "      <td>0</td>\n",
       "      <td>0</td>\n",
       "      <td>0</td>\n",
       "      <td>0</td>\n",
       "      <td>0</td>\n",
       "      <td>1</td>\n",
       "      <td>0</td>\n",
       "      <td>0</td>\n",
       "      <td>0</td>\n",
       "      <td>0</td>\n",
       "      <td>0</td>\n",
       "      <td>0</td>\n",
       "      <td>7</td>\n",
       "    </tr>\n",
       "    <tr>\n",
       "      <th>99</th>\n",
       "      <td>wren</td>\n",
       "      <td>0</td>\n",
       "      <td>1</td>\n",
       "      <td>1</td>\n",
       "      <td>0</td>\n",
       "      <td>1</td>\n",
       "      <td>0</td>\n",
       "      <td>0</td>\n",
       "      <td>0</td>\n",
       "      <td>1</td>\n",
       "      <td>1</td>\n",
       "      <td>0</td>\n",
       "      <td>0</td>\n",
       "      <td>2</td>\n",
       "      <td>1</td>\n",
       "      <td>0</td>\n",
       "      <td>0</td>\n",
       "      <td>2</td>\n",
       "    </tr>\n",
       "  </tbody>\n",
       "</table>\n",
       "<p>100 rows × 18 columns</p>\n",
       "</div>"
      ],
      "text/plain": [
       "    aardvark  1  0  0.1  1.1  0.2  0.3  1.2  1.3  1.4  1.5  0.4  0.5  4  0.6  \\\n",
       "0   antelope  1  0    0    1    0    0    0    1    1    1    0    0  4    1   \n",
       "1       bass  0  0    1    0    0    1    1    1    1    0    0    1  0    1   \n",
       "2       bear  1  0    0    1    0    0    1    1    1    1    0    0  4    0   \n",
       "3       boar  1  0    0    1    0    0    1    1    1    1    0    0  4    1   \n",
       "4    buffalo  1  0    0    1    0    0    0    1    1    1    0    0  4    1   \n",
       "..       ... .. ..  ...  ...  ...  ...  ...  ...  ...  ...  ...  ... ..  ...   \n",
       "95   wallaby  1  0    0    1    0    0    0    1    1    1    0    0  2    1   \n",
       "96      wasp  1  0    1    0    1    0    0    0    0    1    1    0  6    0   \n",
       "97      wolf  1  0    0    1    0    0    1    1    1    1    0    0  4    1   \n",
       "98      worm  0  0    1    0    0    0    0    0    0    1    0    0  0    0   \n",
       "99      wren  0  1    1    0    1    0    0    0    1    1    0    0  2    1   \n",
       "\n",
       "    0.7  1.6  1.7  \n",
       "0     0    1    1  \n",
       "1     0    0    4  \n",
       "2     0    1    1  \n",
       "3     0    1    1  \n",
       "4     0    1    1  \n",
       "..  ...  ...  ...  \n",
       "95    0    1    1  \n",
       "96    0    0    6  \n",
       "97    0    1    1  \n",
       "98    0    0    7  \n",
       "99    0    0    2  \n",
       "\n",
       "[100 rows x 18 columns]"
      ]
     },
     "execution_count": 2,
     "metadata": {},
     "output_type": "execute_result"
    }
   ],
   "source": [
    "#### zoo data set doesn't have the same size as the paper says\n",
    "path = \"C:/Users/Bruna/OneDrive/Documentos/PhD-Kessel/application/datasets_paper/incident_geometry_dataset/\"\n",
    "file = \"zoo.data\"\n",
    "zoo = pd.read_csv(path+file, sep=',')\n",
    "zoo"
   ]
  },
  {
   "cell_type": "markdown",
   "metadata": {},
   "source": [
    "# zoo data set preprocessing"
   ]
  },
  {
   "cell_type": "code",
   "execution_count": 3,
   "metadata": {
    "scrolled": true
   },
   "outputs": [
    {
     "name": "stdout",
     "output_type": "stream",
     "text": [
      "<class 'pandas.core.frame.DataFrame'>\n",
      "RangeIndex: 100 entries, 0 to 99\n",
      "Data columns (total 18 columns):\n",
      " #   Column    Non-Null Count  Dtype \n",
      "---  ------    --------------  ----- \n",
      " 0   aardvark  100 non-null    object\n",
      " 1   1         100 non-null    int64 \n",
      " 2   0         100 non-null    int64 \n",
      " 3   0.1       100 non-null    int64 \n",
      " 4   1.1       100 non-null    int64 \n",
      " 5   0.2       100 non-null    int64 \n",
      " 6   0.3       100 non-null    int64 \n",
      " 7   1.2       100 non-null    int64 \n",
      " 8   1.3       100 non-null    int64 \n",
      " 9   1.4       100 non-null    int64 \n",
      " 10  1.5       100 non-null    int64 \n",
      " 11  0.4       100 non-null    int64 \n",
      " 12  0.5       100 non-null    int64 \n",
      " 13  4         100 non-null    int64 \n",
      " 14  0.6       100 non-null    int64 \n",
      " 15  0.7       100 non-null    int64 \n",
      " 16  1.6       100 non-null    int64 \n",
      " 17  1.7       100 non-null    int64 \n",
      "dtypes: int64(17), object(1)\n",
      "memory usage: 14.2+ KB\n"
     ]
    }
   ],
   "source": [
    "# except the first column, all columns are int64 and there is no missing data\n",
    "zoo.info()"
   ]
  },
  {
   "cell_type": "code",
   "execution_count": 4,
   "metadata": {},
   "outputs": [
    {
     "data": {
      "text/plain": [
       "frog        2\n",
       "gnat        1\n",
       "bear        1\n",
       "porpoise    1\n",
       "duck        1\n",
       "           ..\n",
       "bass        1\n",
       "hamster     1\n",
       "mink        1\n",
       "raccoon     1\n",
       "seawasp     1\n",
       "Name: aardvark, Length: 99, dtype: int64"
      ]
     },
     "execution_count": 4,
     "metadata": {},
     "output_type": "execute_result"
    }
   ],
   "source": [
    "# Lets see if any value from the first column repeats, if they don't instead of the strings it is better to use their index\n",
    "zoo.drop_duplicates()\n",
    "zoo['aardvark'].value_counts()\n",
    "# there are 2 \"frog\" lines"
   ]
  },
  {
   "cell_type": "code",
   "execution_count": 5,
   "metadata": {},
   "outputs": [
    {
     "data": {
      "text/html": [
       "<div>\n",
       "<style scoped>\n",
       "    .dataframe tbody tr th:only-of-type {\n",
       "        vertical-align: middle;\n",
       "    }\n",
       "\n",
       "    .dataframe tbody tr th {\n",
       "        vertical-align: top;\n",
       "    }\n",
       "\n",
       "    .dataframe thead th {\n",
       "        text-align: right;\n",
       "    }\n",
       "</style>\n",
       "<table border=\"1\" class=\"dataframe\">\n",
       "  <thead>\n",
       "    <tr style=\"text-align: right;\">\n",
       "      <th></th>\n",
       "      <th>aardvark</th>\n",
       "      <th>1</th>\n",
       "      <th>0</th>\n",
       "      <th>0.1</th>\n",
       "      <th>1.1</th>\n",
       "      <th>0.2</th>\n",
       "      <th>0.3</th>\n",
       "      <th>1.2</th>\n",
       "      <th>1.3</th>\n",
       "      <th>1.4</th>\n",
       "      <th>1.5</th>\n",
       "      <th>0.4</th>\n",
       "      <th>0.5</th>\n",
       "      <th>4</th>\n",
       "      <th>0.6</th>\n",
       "      <th>0.7</th>\n",
       "      <th>1.6</th>\n",
       "      <th>1.7</th>\n",
       "    </tr>\n",
       "  </thead>\n",
       "  <tbody>\n",
       "    <tr>\n",
       "      <th>24</th>\n",
       "      <td>frog</td>\n",
       "      <td>0</td>\n",
       "      <td>0</td>\n",
       "      <td>1</td>\n",
       "      <td>0</td>\n",
       "      <td>0</td>\n",
       "      <td>1</td>\n",
       "      <td>1</td>\n",
       "      <td>1</td>\n",
       "      <td>1</td>\n",
       "      <td>1</td>\n",
       "      <td>0</td>\n",
       "      <td>0</td>\n",
       "      <td>4</td>\n",
       "      <td>0</td>\n",
       "      <td>0</td>\n",
       "      <td>0</td>\n",
       "      <td>5</td>\n",
       "    </tr>\n",
       "    <tr>\n",
       "      <th>25</th>\n",
       "      <td>frog</td>\n",
       "      <td>0</td>\n",
       "      <td>0</td>\n",
       "      <td>1</td>\n",
       "      <td>0</td>\n",
       "      <td>0</td>\n",
       "      <td>1</td>\n",
       "      <td>1</td>\n",
       "      <td>1</td>\n",
       "      <td>1</td>\n",
       "      <td>1</td>\n",
       "      <td>1</td>\n",
       "      <td>0</td>\n",
       "      <td>4</td>\n",
       "      <td>0</td>\n",
       "      <td>0</td>\n",
       "      <td>0</td>\n",
       "      <td>5</td>\n",
       "    </tr>\n",
       "  </tbody>\n",
       "</table>\n",
       "</div>"
      ],
      "text/plain": [
       "   aardvark  1  0  0.1  1.1  0.2  0.3  1.2  1.3  1.4  1.5  0.4  0.5  4  0.6  \\\n",
       "24     frog  0  0    1    0    0    1    1    1    1    1    0    0  4    0   \n",
       "25     frog  0  0    1    0    0    1    1    1    1    1    1    0  4    0   \n",
       "\n",
       "    0.7  1.6  1.7  \n",
       "24    0    0    5  \n",
       "25    0    0    5  "
      ]
     },
     "execution_count": 5,
     "metadata": {},
     "output_type": "execute_result"
    }
   ],
   "source": [
    "# while checking the repeated lines with \"frog\" I've decided to keep the one with the column 0.4 = 1 instead of 0.4 = 0\n",
    "zoo[zoo['aardvark']=='frog']"
   ]
  },
  {
   "cell_type": "code",
   "execution_count": 6,
   "metadata": {},
   "outputs": [],
   "source": [
    "zoo=zoo.drop(24)"
   ]
  },
  {
   "cell_type": "code",
   "execution_count": 7,
   "metadata": {},
   "outputs": [
    {
     "data": {
      "text/plain": [
       "gnat        1\n",
       "honeybee    1\n",
       "porpoise    1\n",
       "duck        1\n",
       "pheasant    1\n",
       "           ..\n",
       "bass        1\n",
       "hamster     1\n",
       "mink        1\n",
       "raccoon     1\n",
       "seawasp     1\n",
       "Name: aardvark, Length: 99, dtype: int64"
      ]
     },
     "execution_count": 7,
     "metadata": {},
     "output_type": "execute_result"
    }
   ],
   "source": [
    "# let us check again if everything is alright, with unique values for the column 'aardvark'\n",
    "zoo['aardvark'].value_counts()"
   ]
  },
  {
   "cell_type": "code",
   "execution_count": 8,
   "metadata": {},
   "outputs": [
    {
     "data": {
      "text/html": [
       "<div>\n",
       "<style scoped>\n",
       "    .dataframe tbody tr th:only-of-type {\n",
       "        vertical-align: middle;\n",
       "    }\n",
       "\n",
       "    .dataframe tbody tr th {\n",
       "        vertical-align: top;\n",
       "    }\n",
       "\n",
       "    .dataframe thead th {\n",
       "        text-align: right;\n",
       "    }\n",
       "</style>\n",
       "<table border=\"1\" class=\"dataframe\">\n",
       "  <thead>\n",
       "    <tr style=\"text-align: right;\">\n",
       "      <th></th>\n",
       "      <th>1</th>\n",
       "      <th>0</th>\n",
       "      <th>0.1</th>\n",
       "      <th>1.1</th>\n",
       "      <th>0.2</th>\n",
       "      <th>0.3</th>\n",
       "      <th>1.2</th>\n",
       "      <th>1.3</th>\n",
       "      <th>1.4</th>\n",
       "      <th>1.5</th>\n",
       "      <th>0.4</th>\n",
       "      <th>0.5</th>\n",
       "      <th>4</th>\n",
       "      <th>0.6</th>\n",
       "      <th>0.7</th>\n",
       "      <th>1.6</th>\n",
       "      <th>1.7</th>\n",
       "    </tr>\n",
       "    <tr>\n",
       "      <th>aardvark</th>\n",
       "      <th></th>\n",
       "      <th></th>\n",
       "      <th></th>\n",
       "      <th></th>\n",
       "      <th></th>\n",
       "      <th></th>\n",
       "      <th></th>\n",
       "      <th></th>\n",
       "      <th></th>\n",
       "      <th></th>\n",
       "      <th></th>\n",
       "      <th></th>\n",
       "      <th></th>\n",
       "      <th></th>\n",
       "      <th></th>\n",
       "      <th></th>\n",
       "      <th></th>\n",
       "    </tr>\n",
       "  </thead>\n",
       "  <tbody>\n",
       "    <tr>\n",
       "      <th>antelope</th>\n",
       "      <td>1</td>\n",
       "      <td>0</td>\n",
       "      <td>0</td>\n",
       "      <td>1</td>\n",
       "      <td>0</td>\n",
       "      <td>0</td>\n",
       "      <td>0</td>\n",
       "      <td>1</td>\n",
       "      <td>1</td>\n",
       "      <td>1</td>\n",
       "      <td>0</td>\n",
       "      <td>0</td>\n",
       "      <td>4</td>\n",
       "      <td>1</td>\n",
       "      <td>0</td>\n",
       "      <td>1</td>\n",
       "      <td>1</td>\n",
       "    </tr>\n",
       "    <tr>\n",
       "      <th>bass</th>\n",
       "      <td>0</td>\n",
       "      <td>0</td>\n",
       "      <td>1</td>\n",
       "      <td>0</td>\n",
       "      <td>0</td>\n",
       "      <td>1</td>\n",
       "      <td>1</td>\n",
       "      <td>1</td>\n",
       "      <td>1</td>\n",
       "      <td>0</td>\n",
       "      <td>0</td>\n",
       "      <td>1</td>\n",
       "      <td>0</td>\n",
       "      <td>1</td>\n",
       "      <td>0</td>\n",
       "      <td>0</td>\n",
       "      <td>4</td>\n",
       "    </tr>\n",
       "    <tr>\n",
       "      <th>bear</th>\n",
       "      <td>1</td>\n",
       "      <td>0</td>\n",
       "      <td>0</td>\n",
       "      <td>1</td>\n",
       "      <td>0</td>\n",
       "      <td>0</td>\n",
       "      <td>1</td>\n",
       "      <td>1</td>\n",
       "      <td>1</td>\n",
       "      <td>1</td>\n",
       "      <td>0</td>\n",
       "      <td>0</td>\n",
       "      <td>4</td>\n",
       "      <td>0</td>\n",
       "      <td>0</td>\n",
       "      <td>1</td>\n",
       "      <td>1</td>\n",
       "    </tr>\n",
       "    <tr>\n",
       "      <th>boar</th>\n",
       "      <td>1</td>\n",
       "      <td>0</td>\n",
       "      <td>0</td>\n",
       "      <td>1</td>\n",
       "      <td>0</td>\n",
       "      <td>0</td>\n",
       "      <td>1</td>\n",
       "      <td>1</td>\n",
       "      <td>1</td>\n",
       "      <td>1</td>\n",
       "      <td>0</td>\n",
       "      <td>0</td>\n",
       "      <td>4</td>\n",
       "      <td>1</td>\n",
       "      <td>0</td>\n",
       "      <td>1</td>\n",
       "      <td>1</td>\n",
       "    </tr>\n",
       "    <tr>\n",
       "      <th>buffalo</th>\n",
       "      <td>1</td>\n",
       "      <td>0</td>\n",
       "      <td>0</td>\n",
       "      <td>1</td>\n",
       "      <td>0</td>\n",
       "      <td>0</td>\n",
       "      <td>0</td>\n",
       "      <td>1</td>\n",
       "      <td>1</td>\n",
       "      <td>1</td>\n",
       "      <td>0</td>\n",
       "      <td>0</td>\n",
       "      <td>4</td>\n",
       "      <td>1</td>\n",
       "      <td>0</td>\n",
       "      <td>1</td>\n",
       "      <td>1</td>\n",
       "    </tr>\n",
       "    <tr>\n",
       "      <th>...</th>\n",
       "      <td>...</td>\n",
       "      <td>...</td>\n",
       "      <td>...</td>\n",
       "      <td>...</td>\n",
       "      <td>...</td>\n",
       "      <td>...</td>\n",
       "      <td>...</td>\n",
       "      <td>...</td>\n",
       "      <td>...</td>\n",
       "      <td>...</td>\n",
       "      <td>...</td>\n",
       "      <td>...</td>\n",
       "      <td>...</td>\n",
       "      <td>...</td>\n",
       "      <td>...</td>\n",
       "      <td>...</td>\n",
       "      <td>...</td>\n",
       "    </tr>\n",
       "    <tr>\n",
       "      <th>wallaby</th>\n",
       "      <td>1</td>\n",
       "      <td>0</td>\n",
       "      <td>0</td>\n",
       "      <td>1</td>\n",
       "      <td>0</td>\n",
       "      <td>0</td>\n",
       "      <td>0</td>\n",
       "      <td>1</td>\n",
       "      <td>1</td>\n",
       "      <td>1</td>\n",
       "      <td>0</td>\n",
       "      <td>0</td>\n",
       "      <td>2</td>\n",
       "      <td>1</td>\n",
       "      <td>0</td>\n",
       "      <td>1</td>\n",
       "      <td>1</td>\n",
       "    </tr>\n",
       "    <tr>\n",
       "      <th>wasp</th>\n",
       "      <td>1</td>\n",
       "      <td>0</td>\n",
       "      <td>1</td>\n",
       "      <td>0</td>\n",
       "      <td>1</td>\n",
       "      <td>0</td>\n",
       "      <td>0</td>\n",
       "      <td>0</td>\n",
       "      <td>0</td>\n",
       "      <td>1</td>\n",
       "      <td>1</td>\n",
       "      <td>0</td>\n",
       "      <td>6</td>\n",
       "      <td>0</td>\n",
       "      <td>0</td>\n",
       "      <td>0</td>\n",
       "      <td>6</td>\n",
       "    </tr>\n",
       "    <tr>\n",
       "      <th>wolf</th>\n",
       "      <td>1</td>\n",
       "      <td>0</td>\n",
       "      <td>0</td>\n",
       "      <td>1</td>\n",
       "      <td>0</td>\n",
       "      <td>0</td>\n",
       "      <td>1</td>\n",
       "      <td>1</td>\n",
       "      <td>1</td>\n",
       "      <td>1</td>\n",
       "      <td>0</td>\n",
       "      <td>0</td>\n",
       "      <td>4</td>\n",
       "      <td>1</td>\n",
       "      <td>0</td>\n",
       "      <td>1</td>\n",
       "      <td>1</td>\n",
       "    </tr>\n",
       "    <tr>\n",
       "      <th>worm</th>\n",
       "      <td>0</td>\n",
       "      <td>0</td>\n",
       "      <td>1</td>\n",
       "      <td>0</td>\n",
       "      <td>0</td>\n",
       "      <td>0</td>\n",
       "      <td>0</td>\n",
       "      <td>0</td>\n",
       "      <td>0</td>\n",
       "      <td>1</td>\n",
       "      <td>0</td>\n",
       "      <td>0</td>\n",
       "      <td>0</td>\n",
       "      <td>0</td>\n",
       "      <td>0</td>\n",
       "      <td>0</td>\n",
       "      <td>7</td>\n",
       "    </tr>\n",
       "    <tr>\n",
       "      <th>wren</th>\n",
       "      <td>0</td>\n",
       "      <td>1</td>\n",
       "      <td>1</td>\n",
       "      <td>0</td>\n",
       "      <td>1</td>\n",
       "      <td>0</td>\n",
       "      <td>0</td>\n",
       "      <td>0</td>\n",
       "      <td>1</td>\n",
       "      <td>1</td>\n",
       "      <td>0</td>\n",
       "      <td>0</td>\n",
       "      <td>2</td>\n",
       "      <td>1</td>\n",
       "      <td>0</td>\n",
       "      <td>0</td>\n",
       "      <td>2</td>\n",
       "    </tr>\n",
       "  </tbody>\n",
       "</table>\n",
       "<p>99 rows × 17 columns</p>\n",
       "</div>"
      ],
      "text/plain": [
       "          1  0  0.1  1.1  0.2  0.3  1.2  1.3  1.4  1.5  0.4  0.5  4  0.6  0.7  \\\n",
       "aardvark                                                                        \n",
       "antelope  1  0    0    1    0    0    0    1    1    1    0    0  4    1    0   \n",
       "bass      0  0    1    0    0    1    1    1    1    0    0    1  0    1    0   \n",
       "bear      1  0    0    1    0    0    1    1    1    1    0    0  4    0    0   \n",
       "boar      1  0    0    1    0    0    1    1    1    1    0    0  4    1    0   \n",
       "buffalo   1  0    0    1    0    0    0    1    1    1    0    0  4    1    0   \n",
       "...      .. ..  ...  ...  ...  ...  ...  ...  ...  ...  ...  ... ..  ...  ...   \n",
       "wallaby   1  0    0    1    0    0    0    1    1    1    0    0  2    1    0   \n",
       "wasp      1  0    1    0    1    0    0    0    0    1    1    0  6    0    0   \n",
       "wolf      1  0    0    1    0    0    1    1    1    1    0    0  4    1    0   \n",
       "worm      0  0    1    0    0    0    0    0    0    1    0    0  0    0    0   \n",
       "wren      0  1    1    0    1    0    0    0    1    1    0    0  2    1    0   \n",
       "\n",
       "          1.6  1.7  \n",
       "aardvark            \n",
       "antelope    1    1  \n",
       "bass        0    4  \n",
       "bear        1    1  \n",
       "boar        1    1  \n",
       "buffalo     1    1  \n",
       "...       ...  ...  \n",
       "wallaby     1    1  \n",
       "wasp        0    6  \n",
       "wolf        1    1  \n",
       "worm        0    7  \n",
       "wren        0    2  \n",
       "\n",
       "[99 rows x 17 columns]"
      ]
     },
     "execution_count": 8,
     "metadata": {},
     "output_type": "execute_result"
    }
   ],
   "source": [
    "zoo = zoo.set_index(['aardvark'])\n",
    "zoo"
   ]
  },
  {
   "cell_type": "code",
   "execution_count": 9,
   "metadata": {},
   "outputs": [
    {
     "name": "stdout",
     "output_type": "stream",
     "text": [
      "<class 'pandas.core.frame.DataFrame'>\n",
      "Index: 99 entries, antelope to wren\n",
      "Data columns (total 17 columns):\n",
      " #   Column  Non-Null Count  Dtype\n",
      "---  ------  --------------  -----\n",
      " 0   1       99 non-null     int64\n",
      " 1   0       99 non-null     int64\n",
      " 2   0.1     99 non-null     int64\n",
      " 3   1.1     99 non-null     int64\n",
      " 4   0.2     99 non-null     int64\n",
      " 5   0.3     99 non-null     int64\n",
      " 6   1.2     99 non-null     int64\n",
      " 7   1.3     99 non-null     int64\n",
      " 8   1.4     99 non-null     int64\n",
      " 9   1.5     99 non-null     int64\n",
      " 10  0.4     99 non-null     int64\n",
      " 11  0.5     99 non-null     int64\n",
      " 12  4       99 non-null     int64\n",
      " 13  0.6     99 non-null     int64\n",
      " 14  0.7     99 non-null     int64\n",
      " 15  1.6     99 non-null     int64\n",
      " 16  1.7     99 non-null     int64\n",
      "dtypes: int64(17)\n",
      "memory usage: 13.9+ KB\n"
     ]
    }
   ],
   "source": [
    "# checking if everything is int64\n",
    "zoo.info()"
   ]
  },
  {
   "cell_type": "markdown",
   "metadata": {},
   "source": [
    "# Distance as feature of zoo data set"
   ]
  },
  {
   "cell_type": "markdown",
   "metadata": {},
   "source": [
    " Let us use \"zoo\" as our target data set.\n",
    " The first step is to get the geometric data set related to zoo, D(X)= (X, F, u) where F is the set of features as euclidean distances \n",
    " between elements of X, and u the normalizing counting measure."
   ]
  },
  {
   "cell_type": "code",
   "execution_count": 91,
   "metadata": {
    "scrolled": true
   },
   "outputs": [],
   "source": [
    "# Let us get the distance between the points of zoo\n",
    "distances = pdist(zoo.values, metric='euclidean')"
   ]
  },
  {
   "cell_type": "markdown",
   "metadata": {},
   "source": [
    "Next step: Compute the normalizing counting measure. Recall that the normalizing counting measure of B over X is given by u_X(B) = |X|^{-1}|B| where B \\subset X"
   ]
  },
  {
   "cell_type": "code",
   "execution_count": 11,
   "metadata": {},
   "outputs": [
    {
     "data": {
      "text/plain": [
       "99"
      ]
     },
     "execution_count": 11,
     "metadata": {},
     "output_type": "execute_result"
    }
   ],
   "source": [
    "#I would like to know the cardinality of the inverse image of B for the Euclidean metric with B been any subset of zoo. \n",
    "#To compute that, let us find zoo's size because B belongs to  P(X) that means B's cardinality is in between 2^0 and 2^(zoo size) \n",
    "card_zoo = zoo['0'].size\n",
    "card_zoo"
   ]
  },
  {
   "cell_type": "code",
   "execution_count": 12,
   "metadata": {},
   "outputs": [],
   "source": [
    "#Let us build B's cardinalities' possible values\n",
    "card_B = [ 2**i for i in range(0,card_zoo)]"
   ]
  },
  {
   "cell_type": "markdown",
   "metadata": {},
   "source": [
    "# ObsDiam of zoo's geometric data set given alpha"
   ]
  },
  {
   "cell_type": "markdown",
   "metadata": {},
   "source": [
    "We need to get Diam(B). Note that no matter what B's cardinality is, max{d(x,y):x,y \\in zoo} will always be an element of B for some B \\subset P(zoo), due to the fact we don't have an order in the data set. That means we can assume diam(B) = max{d(x,y):x,y \\in zoo}. Due to the fact the ObsDiam is a sup of the inf of the diameter values of B, we can assume that the ObsDiam that we are looking for is diamB. \n",
    "So the question is: what is the value of max{d(x,y):x,y \\in zoo}?"
   ]
  },
  {
   "cell_type": "code",
   "execution_count": 13,
   "metadata": {},
   "outputs": [
    {
     "data": {
      "text/plain": [
       "10.44030650891055"
      ]
     },
     "execution_count": 13,
     "metadata": {},
     "output_type": "execute_result"
    }
   ],
   "source": [
    "# Compute max{d(x,y):x,y \\in zoo}\n",
    "diamB = distances.max()\n",
    "diamB"
   ]
  },
  {
   "cell_type": "markdown",
   "metadata": {},
   "source": [
    "Conclusion: for this kind of data set with discrete values, the ObsDiam is trivial and it is the max value of distances between the data set elements."
   ]
  },
  {
   "cell_type": "markdown",
   "metadata": {},
   "source": [
    "# What if the data set can assume values in \\mathbb{R}?"
   ]
  },
  {
   "cell_type": "markdown",
   "metadata": {},
   "source": [
    "# Amazon stock price data set"
   ]
  },
  {
   "cell_type": "code",
   "execution_count": 14,
   "metadata": {},
   "outputs": [
    {
     "data": {
      "text/html": [
       "<div>\n",
       "<style scoped>\n",
       "    .dataframe tbody tr th:only-of-type {\n",
       "        vertical-align: middle;\n",
       "    }\n",
       "\n",
       "    .dataframe tbody tr th {\n",
       "        vertical-align: top;\n",
       "    }\n",
       "\n",
       "    .dataframe thead th {\n",
       "        text-align: right;\n",
       "    }\n",
       "</style>\n",
       "<table border=\"1\" class=\"dataframe\">\n",
       "  <thead>\n",
       "    <tr style=\"text-align: right;\">\n",
       "      <th></th>\n",
       "      <th>Date</th>\n",
       "      <th>Open</th>\n",
       "      <th>High</th>\n",
       "      <th>Low</th>\n",
       "      <th>Close</th>\n",
       "      <th>Adj Close</th>\n",
       "      <th>Volume</th>\n",
       "    </tr>\n",
       "  </thead>\n",
       "  <tbody>\n",
       "    <tr>\n",
       "      <th>0</th>\n",
       "      <td>1997-05-15</td>\n",
       "      <td>2.437500</td>\n",
       "      <td>2.500000</td>\n",
       "      <td>1.927083</td>\n",
       "      <td>1.958333</td>\n",
       "      <td>1.958333</td>\n",
       "      <td>72156000</td>\n",
       "    </tr>\n",
       "    <tr>\n",
       "      <th>1</th>\n",
       "      <td>1997-05-16</td>\n",
       "      <td>1.968750</td>\n",
       "      <td>1.979167</td>\n",
       "      <td>1.708333</td>\n",
       "      <td>1.729167</td>\n",
       "      <td>1.729167</td>\n",
       "      <td>14700000</td>\n",
       "    </tr>\n",
       "    <tr>\n",
       "      <th>2</th>\n",
       "      <td>1997-05-19</td>\n",
       "      <td>1.760417</td>\n",
       "      <td>1.770833</td>\n",
       "      <td>1.625000</td>\n",
       "      <td>1.708333</td>\n",
       "      <td>1.708333</td>\n",
       "      <td>6106800</td>\n",
       "    </tr>\n",
       "    <tr>\n",
       "      <th>3</th>\n",
       "      <td>1997-05-20</td>\n",
       "      <td>1.729167</td>\n",
       "      <td>1.750000</td>\n",
       "      <td>1.635417</td>\n",
       "      <td>1.635417</td>\n",
       "      <td>1.635417</td>\n",
       "      <td>5467200</td>\n",
       "    </tr>\n",
       "    <tr>\n",
       "      <th>4</th>\n",
       "      <td>1997-05-21</td>\n",
       "      <td>1.635417</td>\n",
       "      <td>1.645833</td>\n",
       "      <td>1.375000</td>\n",
       "      <td>1.427083</td>\n",
       "      <td>1.427083</td>\n",
       "      <td>18853200</td>\n",
       "    </tr>\n",
       "    <tr>\n",
       "      <th>...</th>\n",
       "      <td>...</td>\n",
       "      <td>...</td>\n",
       "      <td>...</td>\n",
       "      <td>...</td>\n",
       "      <td>...</td>\n",
       "      <td>...</td>\n",
       "      <td>...</td>\n",
       "    </tr>\n",
       "    <tr>\n",
       "      <th>6150</th>\n",
       "      <td>2021-10-21</td>\n",
       "      <td>3414.250000</td>\n",
       "      <td>3440.280029</td>\n",
       "      <td>3403.000000</td>\n",
       "      <td>3435.010010</td>\n",
       "      <td>3435.010010</td>\n",
       "      <td>1881400</td>\n",
       "    </tr>\n",
       "    <tr>\n",
       "      <th>6151</th>\n",
       "      <td>2021-10-22</td>\n",
       "      <td>3421.000000</td>\n",
       "      <td>3429.840088</td>\n",
       "      <td>3331.300049</td>\n",
       "      <td>3335.550049</td>\n",
       "      <td>3335.550049</td>\n",
       "      <td>3133800</td>\n",
       "    </tr>\n",
       "    <tr>\n",
       "      <th>6152</th>\n",
       "      <td>2021-10-25</td>\n",
       "      <td>3335.000000</td>\n",
       "      <td>3347.800049</td>\n",
       "      <td>3297.699951</td>\n",
       "      <td>3320.370117</td>\n",
       "      <td>3320.370117</td>\n",
       "      <td>2226000</td>\n",
       "    </tr>\n",
       "    <tr>\n",
       "      <th>6153</th>\n",
       "      <td>2021-10-26</td>\n",
       "      <td>3349.510010</td>\n",
       "      <td>3416.120117</td>\n",
       "      <td>3343.979980</td>\n",
       "      <td>3376.070068</td>\n",
       "      <td>3376.070068</td>\n",
       "      <td>2693700</td>\n",
       "    </tr>\n",
       "    <tr>\n",
       "      <th>6154</th>\n",
       "      <td>2021-10-27</td>\n",
       "      <td>3388.000000</td>\n",
       "      <td>3412.000000</td>\n",
       "      <td>3371.453369</td>\n",
       "      <td>3396.189941</td>\n",
       "      <td>3396.189941</td>\n",
       "      <td>1080291</td>\n",
       "    </tr>\n",
       "  </tbody>\n",
       "</table>\n",
       "<p>6155 rows × 7 columns</p>\n",
       "</div>"
      ],
      "text/plain": [
       "            Date         Open         High          Low        Close  \\\n",
       "0     1997-05-15     2.437500     2.500000     1.927083     1.958333   \n",
       "1     1997-05-16     1.968750     1.979167     1.708333     1.729167   \n",
       "2     1997-05-19     1.760417     1.770833     1.625000     1.708333   \n",
       "3     1997-05-20     1.729167     1.750000     1.635417     1.635417   \n",
       "4     1997-05-21     1.635417     1.645833     1.375000     1.427083   \n",
       "...          ...          ...          ...          ...          ...   \n",
       "6150  2021-10-21  3414.250000  3440.280029  3403.000000  3435.010010   \n",
       "6151  2021-10-22  3421.000000  3429.840088  3331.300049  3335.550049   \n",
       "6152  2021-10-25  3335.000000  3347.800049  3297.699951  3320.370117   \n",
       "6153  2021-10-26  3349.510010  3416.120117  3343.979980  3376.070068   \n",
       "6154  2021-10-27  3388.000000  3412.000000  3371.453369  3396.189941   \n",
       "\n",
       "        Adj Close    Volume  \n",
       "0        1.958333  72156000  \n",
       "1        1.729167  14700000  \n",
       "2        1.708333   6106800  \n",
       "3        1.635417   5467200  \n",
       "4        1.427083  18853200  \n",
       "...           ...       ...  \n",
       "6150  3435.010010   1881400  \n",
       "6151  3335.550049   3133800  \n",
       "6152  3320.370117   2226000  \n",
       "6153  3376.070068   2693700  \n",
       "6154  3396.189941   1080291  \n",
       "\n",
       "[6155 rows x 7 columns]"
      ]
     },
     "execution_count": 14,
     "metadata": {},
     "output_type": "execute_result"
    }
   ],
   "source": [
    "path = \"C:/Users/Bruna/OneDrive/Documentos/PhD-Kessel/application/datasets_suggestions/\"\n",
    "file = \"Amazon.csv\"\n",
    "amazon = pd.read_csv(path+file, sep=',')\n",
    "amazon"
   ]
  },
  {
   "cell_type": "markdown",
   "metadata": {},
   "source": [
    "# amazon's stock price data preprocessing"
   ]
  },
  {
   "cell_type": "code",
   "execution_count": 15,
   "metadata": {},
   "outputs": [
    {
     "data": {
      "text/html": [
       "<div>\n",
       "<style scoped>\n",
       "    .dataframe tbody tr th:only-of-type {\n",
       "        vertical-align: middle;\n",
       "    }\n",
       "\n",
       "    .dataframe tbody tr th {\n",
       "        vertical-align: top;\n",
       "    }\n",
       "\n",
       "    .dataframe thead th {\n",
       "        text-align: right;\n",
       "    }\n",
       "</style>\n",
       "<table border=\"1\" class=\"dataframe\">\n",
       "  <thead>\n",
       "    <tr style=\"text-align: right;\">\n",
       "      <th></th>\n",
       "      <th>Date</th>\n",
       "      <th>Open</th>\n",
       "      <th>High</th>\n",
       "      <th>Low</th>\n",
       "      <th>Close</th>\n",
       "      <th>Adj Close</th>\n",
       "      <th>Volume</th>\n",
       "    </tr>\n",
       "  </thead>\n",
       "  <tbody>\n",
       "    <tr>\n",
       "      <th>0</th>\n",
       "      <td>1997-05-15</td>\n",
       "      <td>2.437500</td>\n",
       "      <td>2.500000</td>\n",
       "      <td>1.927083</td>\n",
       "      <td>1.958333</td>\n",
       "      <td>1.958333</td>\n",
       "      <td>72156000</td>\n",
       "    </tr>\n",
       "    <tr>\n",
       "      <th>1</th>\n",
       "      <td>1997-05-16</td>\n",
       "      <td>1.968750</td>\n",
       "      <td>1.979167</td>\n",
       "      <td>1.708333</td>\n",
       "      <td>1.729167</td>\n",
       "      <td>1.729167</td>\n",
       "      <td>14700000</td>\n",
       "    </tr>\n",
       "    <tr>\n",
       "      <th>2</th>\n",
       "      <td>1997-05-19</td>\n",
       "      <td>1.760417</td>\n",
       "      <td>1.770833</td>\n",
       "      <td>1.625000</td>\n",
       "      <td>1.708333</td>\n",
       "      <td>1.708333</td>\n",
       "      <td>6106800</td>\n",
       "    </tr>\n",
       "    <tr>\n",
       "      <th>3</th>\n",
       "      <td>1997-05-20</td>\n",
       "      <td>1.729167</td>\n",
       "      <td>1.750000</td>\n",
       "      <td>1.635417</td>\n",
       "      <td>1.635417</td>\n",
       "      <td>1.635417</td>\n",
       "      <td>5467200</td>\n",
       "    </tr>\n",
       "    <tr>\n",
       "      <th>4</th>\n",
       "      <td>1997-05-21</td>\n",
       "      <td>1.635417</td>\n",
       "      <td>1.645833</td>\n",
       "      <td>1.375000</td>\n",
       "      <td>1.427083</td>\n",
       "      <td>1.427083</td>\n",
       "      <td>18853200</td>\n",
       "    </tr>\n",
       "    <tr>\n",
       "      <th>...</th>\n",
       "      <td>...</td>\n",
       "      <td>...</td>\n",
       "      <td>...</td>\n",
       "      <td>...</td>\n",
       "      <td>...</td>\n",
       "      <td>...</td>\n",
       "      <td>...</td>\n",
       "    </tr>\n",
       "    <tr>\n",
       "      <th>6150</th>\n",
       "      <td>2021-10-21</td>\n",
       "      <td>3414.250000</td>\n",
       "      <td>3440.280029</td>\n",
       "      <td>3403.000000</td>\n",
       "      <td>3435.010010</td>\n",
       "      <td>3435.010010</td>\n",
       "      <td>1881400</td>\n",
       "    </tr>\n",
       "    <tr>\n",
       "      <th>6151</th>\n",
       "      <td>2021-10-22</td>\n",
       "      <td>3421.000000</td>\n",
       "      <td>3429.840088</td>\n",
       "      <td>3331.300049</td>\n",
       "      <td>3335.550049</td>\n",
       "      <td>3335.550049</td>\n",
       "      <td>3133800</td>\n",
       "    </tr>\n",
       "    <tr>\n",
       "      <th>6152</th>\n",
       "      <td>2021-10-25</td>\n",
       "      <td>3335.000000</td>\n",
       "      <td>3347.800049</td>\n",
       "      <td>3297.699951</td>\n",
       "      <td>3320.370117</td>\n",
       "      <td>3320.370117</td>\n",
       "      <td>2226000</td>\n",
       "    </tr>\n",
       "    <tr>\n",
       "      <th>6153</th>\n",
       "      <td>2021-10-26</td>\n",
       "      <td>3349.510010</td>\n",
       "      <td>3416.120117</td>\n",
       "      <td>3343.979980</td>\n",
       "      <td>3376.070068</td>\n",
       "      <td>3376.070068</td>\n",
       "      <td>2693700</td>\n",
       "    </tr>\n",
       "    <tr>\n",
       "      <th>6154</th>\n",
       "      <td>2021-10-27</td>\n",
       "      <td>3388.000000</td>\n",
       "      <td>3412.000000</td>\n",
       "      <td>3371.453369</td>\n",
       "      <td>3396.189941</td>\n",
       "      <td>3396.189941</td>\n",
       "      <td>1080291</td>\n",
       "    </tr>\n",
       "  </tbody>\n",
       "</table>\n",
       "<p>6155 rows × 7 columns</p>\n",
       "</div>"
      ],
      "text/plain": [
       "            Date         Open         High          Low        Close  \\\n",
       "0     1997-05-15     2.437500     2.500000     1.927083     1.958333   \n",
       "1     1997-05-16     1.968750     1.979167     1.708333     1.729167   \n",
       "2     1997-05-19     1.760417     1.770833     1.625000     1.708333   \n",
       "3     1997-05-20     1.729167     1.750000     1.635417     1.635417   \n",
       "4     1997-05-21     1.635417     1.645833     1.375000     1.427083   \n",
       "...          ...          ...          ...          ...          ...   \n",
       "6150  2021-10-21  3414.250000  3440.280029  3403.000000  3435.010010   \n",
       "6151  2021-10-22  3421.000000  3429.840088  3331.300049  3335.550049   \n",
       "6152  2021-10-25  3335.000000  3347.800049  3297.699951  3320.370117   \n",
       "6153  2021-10-26  3349.510010  3416.120117  3343.979980  3376.070068   \n",
       "6154  2021-10-27  3388.000000  3412.000000  3371.453369  3396.189941   \n",
       "\n",
       "        Adj Close    Volume  \n",
       "0        1.958333  72156000  \n",
       "1        1.729167  14700000  \n",
       "2        1.708333   6106800  \n",
       "3        1.635417   5467200  \n",
       "4        1.427083  18853200  \n",
       "...           ...       ...  \n",
       "6150  3435.010010   1881400  \n",
       "6151  3335.550049   3133800  \n",
       "6152  3320.370117   2226000  \n",
       "6153  3376.070068   2693700  \n",
       "6154  3396.189941   1080291  \n",
       "\n",
       "[6155 rows x 7 columns]"
      ]
     },
     "execution_count": 15,
     "metadata": {},
     "output_type": "execute_result"
    }
   ],
   "source": [
    "amazon.drop_duplicates()"
   ]
  },
  {
   "cell_type": "code",
   "execution_count": 16,
   "metadata": {},
   "outputs": [
    {
     "name": "stdout",
     "output_type": "stream",
     "text": [
      "<class 'pandas.core.frame.DataFrame'>\n",
      "RangeIndex: 6155 entries, 0 to 6154\n",
      "Data columns (total 7 columns):\n",
      " #   Column     Non-Null Count  Dtype  \n",
      "---  ------     --------------  -----  \n",
      " 0   Date       6155 non-null   object \n",
      " 1   Open       6155 non-null   float64\n",
      " 2   High       6155 non-null   float64\n",
      " 3   Low        6155 non-null   float64\n",
      " 4   Close      6155 non-null   float64\n",
      " 5   Adj Close  6155 non-null   float64\n",
      " 6   Volume     6155 non-null   int64  \n",
      "dtypes: float64(5), int64(1), object(1)\n",
      "memory usage: 336.7+ KB\n"
     ]
    }
   ],
   "source": [
    "amazon.info()"
   ]
  },
  {
   "cell_type": "code",
   "execution_count": 17,
   "metadata": {
    "scrolled": true
   },
   "outputs": [
    {
     "name": "stdout",
     "output_type": "stream",
     "text": [
      "<class 'pandas.core.frame.DataFrame'>\n",
      "RangeIndex: 6155 entries, 0 to 6154\n",
      "Data columns (total 7 columns):\n",
      " #   Column     Non-Null Count  Dtype         \n",
      "---  ------     --------------  -----         \n",
      " 0   Date       6155 non-null   datetime64[ns]\n",
      " 1   Open       6155 non-null   float64       \n",
      " 2   High       6155 non-null   float64       \n",
      " 3   Low        6155 non-null   float64       \n",
      " 4   Close      6155 non-null   float64       \n",
      " 5   Adj Close  6155 non-null   float64       \n",
      " 6   Volume     6155 non-null   int64         \n",
      "dtypes: datetime64[ns](1), float64(5), int64(1)\n",
      "memory usage: 336.7 KB\n"
     ]
    }
   ],
   "source": [
    "# transform Date from object to date\n",
    "amazon_date=pd.to_datetime(amazon['Date'])\n",
    "amazon[\"Date\"] = amazon_date\n",
    "amazon.info()"
   ]
  },
  {
   "cell_type": "code",
   "execution_count": 18,
   "metadata": {
    "scrolled": true
   },
   "outputs": [],
   "source": [
    "# set date as index\n",
    "amazon = amazon.set_index(['Date'])"
   ]
  },
  {
   "cell_type": "markdown",
   "metadata": {},
   "source": [
    "# Distance as feature for amazon's data set"
   ]
  },
  {
   "cell_type": "markdown",
   "metadata": {},
   "source": [
    "For computational purposes I'll assume the set is ordered by date and B is not separable."
   ]
  },
  {
   "cell_type": "markdown",
   "metadata": {},
   "source": [
    "We need to find the geometric data set related to amazon's data set. Let us consider the features as euclidean distances on the data set."
   ]
  },
  {
   "cell_type": "markdown",
   "metadata": {},
   "source": [
    "What is the data set's cardinality? Due to the data set's nature of being able to assume any real number, the biggest cardinality it can have is the real numbers' cardinality (2^(aleph_0)). For explicitly computing let us set alpha and find some sets that satisfy |amazon|^{-1}|f^{-1}(B)|>=1-alpha"
   ]
  },
  {
   "cell_type": "markdown",
   "metadata": {},
   "source": [
    " 1/length*card_inv_image_B >= 1-alpha, where card_inv_image_B is the unkown cardinality of B's inverse image we are looking for."
   ]
  },
  {
   "cell_type": "markdown",
   "metadata": {},
   "source": [
    "# alpha = 0"
   ]
  },
  {
   "cell_type": "markdown",
   "metadata": {},
   "source": [
    "Assume alpha = 0 to compute DiamObs. In this case card_inv_image_B = |amazon|"
   ]
  },
  {
   "cell_type": "code",
   "execution_count": 19,
   "metadata": {},
   "outputs": [
    {
     "data": {
      "text/plain": [
       "6155"
      ]
     },
     "execution_count": 19,
     "metadata": {},
     "output_type": "execute_result"
    }
   ],
   "source": [
    "amazon_card = amazon['Open'].size\n",
    "amazon_card"
   ]
  },
  {
   "cell_type": "markdown",
   "metadata": {},
   "source": [
    "In this case DiamObs = max{d(x,y):x,y \\in amazon}"
   ]
  },
  {
   "cell_type": "code",
   "execution_count": 20,
   "metadata": {},
   "outputs": [
    {
     "data": {
      "text/plain": [
       "103842000.00006227"
      ]
     },
     "execution_count": 20,
     "metadata": {},
     "output_type": "execute_result"
    }
   ],
   "source": [
    "dist_amazon = pdist(amazon.values, metric='euclidean')\n",
    "dist_amazon_max = dist_amazon.max()\n",
    "dist_amazon_max"
   ]
  },
  {
   "cell_type": "code",
   "execution_count": 21,
   "metadata": {},
   "outputs": [
    {
     "data": {
      "text/plain": [
       "[103842000.00006227]"
      ]
     },
     "execution_count": 21,
     "metadata": {},
     "output_type": "execute_result"
    }
   ],
   "source": [
    "alpha_DiamObs = [dist_amazon_max]\n",
    "alpha_DiamObs"
   ]
  },
  {
   "cell_type": "markdown",
   "metadata": {},
   "source": [
    "# alpha = 0.01"
   ]
  },
  {
   "cell_type": "code",
   "execution_count": 22,
   "metadata": {},
   "outputs": [
    {
     "data": {
      "text/plain": [
       "62"
      ]
     },
     "execution_count": 22,
     "metadata": {},
     "output_type": "execute_result"
    }
   ],
   "source": [
    "card_inv_image_B = 0.01*amazon_card\n",
    "card_inv_image_B = round(card_inv_image_B)\n",
    "card_inv_image_B"
   ]
  },
  {
   "cell_type": "markdown",
   "metadata": {},
   "source": [
    "We need to find all the subsets od amazon with 3078 elements and compute the max diam of them."
   ]
  },
  {
   "cell_type": "code",
   "execution_count": 23,
   "metadata": {},
   "outputs": [],
   "source": [
    "amazon_index = range(0,amazon_card)\n",
    "amazon['index'] = amazon_index\n",
    "amazon = amazon.set_index(['index'])"
   ]
  },
  {
   "cell_type": "code",
   "execution_count": 24,
   "metadata": {},
   "outputs": [],
   "source": [
    "length = range(0,card_inv_image_B)\n",
    "Bs = []\n",
    "for i in length:\n",
    "    B=amazon.iloc[i:card_inv_image_B+i]\n",
    "    Bs.append(B)"
   ]
  },
  {
   "cell_type": "code",
   "execution_count": 25,
   "metadata": {},
   "outputs": [
    {
     "data": {
      "text/plain": [
       "71584800.0"
      ]
     },
     "execution_count": 25,
     "metadata": {},
     "output_type": "execute_result"
    }
   ],
   "source": [
    "distance = []\n",
    "for b in Bs:\n",
    "    dist_B = pdist(b.values, metric='euclidean')\n",
    "    distance.append(dist_B)\n",
    "np.max(distance)"
   ]
  },
  {
   "cell_type": "code",
   "execution_count": 26,
   "metadata": {},
   "outputs": [
    {
     "data": {
      "text/plain": [
       "[103842000.00006227, 71584800.0]"
      ]
     },
     "execution_count": 26,
     "metadata": {},
     "output_type": "execute_result"
    }
   ],
   "source": [
    "alpha_DiamObs.append(np.max(distance))\n",
    "alpha_DiamObs"
   ]
  },
  {
   "cell_type": "markdown",
   "metadata": {},
   "source": [
    "# alpha = 0.02"
   ]
  },
  {
   "cell_type": "code",
   "execution_count": 27,
   "metadata": {},
   "outputs": [
    {
     "data": {
      "text/plain": [
       "123"
      ]
     },
     "execution_count": 27,
     "metadata": {},
     "output_type": "execute_result"
    }
   ],
   "source": [
    "card_inv_image_B = 0.02*amazon_card\n",
    "card_inv_image_B = round(card_inv_image_B)\n",
    "card_inv_image_B"
   ]
  },
  {
   "cell_type": "code",
   "execution_count": 28,
   "metadata": {},
   "outputs": [],
   "source": [
    "length = range(0,card_inv_image_B)\n",
    "Bs = []\n",
    "for i in length:\n",
    "    B=amazon.iloc[i:card_inv_image_B+i]\n",
    "    Bs.append(B)"
   ]
  },
  {
   "cell_type": "code",
   "execution_count": 29,
   "metadata": {},
   "outputs": [
    {
     "data": {
      "text/plain": [
       "71584800.0"
      ]
     },
     "execution_count": 29,
     "metadata": {},
     "output_type": "execute_result"
    }
   ],
   "source": [
    "distance = []\n",
    "for b in Bs:\n",
    "    dist_B = pdist(b.values, metric='euclidean')\n",
    "    distance.append(dist_B)\n",
    "np.max(distance)"
   ]
  },
  {
   "cell_type": "code",
   "execution_count": 30,
   "metadata": {},
   "outputs": [
    {
     "data": {
      "text/plain": [
       "[103842000.00006227, 71584800.0, 71584800.0]"
      ]
     },
     "execution_count": 30,
     "metadata": {},
     "output_type": "execute_result"
    }
   ],
   "source": [
    "alpha_DiamObs.append(np.max(distance))\n",
    "alpha_DiamObs"
   ]
  },
  {
   "cell_type": "markdown",
   "metadata": {},
   "source": [
    "# alpha = 0.03"
   ]
  },
  {
   "cell_type": "code",
   "execution_count": 31,
   "metadata": {},
   "outputs": [
    {
     "data": {
      "text/plain": [
       "71668800.00000021"
      ]
     },
     "execution_count": 31,
     "metadata": {},
     "output_type": "execute_result"
    }
   ],
   "source": [
    "card_inv_image_B = 0.03*amazon_card\n",
    "card_inv_image_B = round(card_inv_image_B)\n",
    "card_inv_image_B\n",
    "\n",
    "length = range(0,card_inv_image_B)\n",
    "Bs = []\n",
    "for i in length:\n",
    "    B=amazon.iloc[i:card_inv_image_B+i]\n",
    "    Bs.append(B)\n",
    "\n",
    "distance = []\n",
    "for b in Bs:\n",
    "    dist_B = pdist(b.values, metric='euclidean')\n",
    "    distance.append(dist_B)\n",
    "np.max(distance)"
   ]
  },
  {
   "cell_type": "code",
   "execution_count": 32,
   "metadata": {},
   "outputs": [
    {
     "data": {
      "text/plain": [
       "185"
      ]
     },
     "execution_count": 32,
     "metadata": {},
     "output_type": "execute_result"
    }
   ],
   "source": [
    "card_inv_image_B"
   ]
  },
  {
   "cell_type": "code",
   "execution_count": 33,
   "metadata": {},
   "outputs": [
    {
     "data": {
      "text/plain": [
       "[103842000.00006227, 71584800.0, 71584800.0, 71668800.00000021]"
      ]
     },
     "execution_count": 33,
     "metadata": {},
     "output_type": "execute_result"
    }
   ],
   "source": [
    "alpha_DiamObs.append(np.max(distance))\n",
    "alpha_DiamObs"
   ]
  },
  {
   "cell_type": "markdown",
   "metadata": {},
   "source": [
    "# alpha = 0.04"
   ]
  },
  {
   "cell_type": "code",
   "execution_count": 34,
   "metadata": {},
   "outputs": [
    {
     "data": {
      "text/plain": [
       "101310000.00004384"
      ]
     },
     "execution_count": 34,
     "metadata": {},
     "output_type": "execute_result"
    }
   ],
   "source": [
    "card_inv_image_B = 0.04*amazon_card\n",
    "card_inv_image_B = round(card_inv_image_B)\n",
    "card_inv_image_B\n",
    "\n",
    "length = range(0,card_inv_image_B)\n",
    "Bs = []\n",
    "for i in length:\n",
    "    B=amazon.iloc[i:card_inv_image_B+i]\n",
    "    Bs.append(B)\n",
    "\n",
    "distance = []\n",
    "for b in Bs:\n",
    "    dist_B = pdist(b.values, metric='euclidean')\n",
    "    distance.append(dist_B)\n",
    "np.max(distance)"
   ]
  },
  {
   "cell_type": "code",
   "execution_count": 35,
   "metadata": {},
   "outputs": [
    {
     "data": {
      "text/plain": [
       "246"
      ]
     },
     "execution_count": 35,
     "metadata": {},
     "output_type": "execute_result"
    }
   ],
   "source": [
    "card_inv_image_B"
   ]
  },
  {
   "cell_type": "code",
   "execution_count": 36,
   "metadata": {},
   "outputs": [
    {
     "data": {
      "text/plain": [
       "[103842000.00006227,\n",
       " 71584800.0,\n",
       " 71584800.0,\n",
       " 71668800.00000021,\n",
       " 101310000.00004384]"
      ]
     },
     "execution_count": 36,
     "metadata": {},
     "output_type": "execute_result"
    }
   ],
   "source": [
    "alpha_DiamObs.append(np.max(distance))\n",
    "alpha_DiamObs"
   ]
  },
  {
   "cell_type": "markdown",
   "metadata": {},
   "source": [
    "# alpha = 0.05"
   ]
  },
  {
   "cell_type": "code",
   "execution_count": 37,
   "metadata": {},
   "outputs": [
    {
     "data": {
      "text/plain": [
       "101310000.00004384"
      ]
     },
     "execution_count": 37,
     "metadata": {},
     "output_type": "execute_result"
    }
   ],
   "source": [
    "card_inv_image_B = 0.05*amazon_card\n",
    "card_inv_image_B = round(card_inv_image_B)\n",
    "card_inv_image_B\n",
    "\n",
    "length = range(0,card_inv_image_B)\n",
    "Bs = []\n",
    "for i in length:\n",
    "    B=amazon.iloc[i:card_inv_image_B+i]\n",
    "    Bs.append(B)\n",
    "\n",
    "distance = []\n",
    "for b in Bs:\n",
    "    dist_B = pdist(b.values, metric='euclidean')\n",
    "    distance.append(dist_B)\n",
    "np.max(distance)"
   ]
  },
  {
   "cell_type": "code",
   "execution_count": 38,
   "metadata": {},
   "outputs": [
    {
     "data": {
      "text/plain": [
       "308"
      ]
     },
     "execution_count": 38,
     "metadata": {},
     "output_type": "execute_result"
    }
   ],
   "source": [
    "card_inv_image_B"
   ]
  },
  {
   "cell_type": "code",
   "execution_count": 39,
   "metadata": {},
   "outputs": [
    {
     "data": {
      "text/plain": [
       "[103842000.00006227,\n",
       " 71584800.0,\n",
       " 71584800.0,\n",
       " 71668800.00000021,\n",
       " 101310000.00004384,\n",
       " 101310000.00004384]"
      ]
     },
     "execution_count": 39,
     "metadata": {},
     "output_type": "execute_result"
    }
   ],
   "source": [
    "alpha_DiamObs.append(np.max(distance))\n",
    "alpha_DiamObs"
   ]
  },
  {
   "cell_type": "markdown",
   "metadata": {},
   "source": [
    "# alpha = 0.06"
   ]
  },
  {
   "cell_type": "code",
   "execution_count": 40,
   "metadata": {},
   "outputs": [
    {
     "data": {
      "text/plain": [
       "101310000.00004384"
      ]
     },
     "execution_count": 40,
     "metadata": {},
     "output_type": "execute_result"
    }
   ],
   "source": [
    "card_inv_image_B = 0.06*amazon_card\n",
    "card_inv_image_B = round(card_inv_image_B)\n",
    "card_inv_image_B\n",
    "\n",
    "length = range(0,card_inv_image_B)\n",
    "Bs = []\n",
    "for i in length:\n",
    "    B=amazon.iloc[i:card_inv_image_B+i]\n",
    "    Bs.append(B)\n",
    "\n",
    "distance = []\n",
    "for b in Bs:\n",
    "    dist_B = pdist(b.values, metric='euclidean')\n",
    "    distance.append(dist_B)\n",
    "np.max(distance)"
   ]
  },
  {
   "cell_type": "code",
   "execution_count": 41,
   "metadata": {},
   "outputs": [
    {
     "data": {
      "text/plain": [
       "369"
      ]
     },
     "execution_count": 41,
     "metadata": {},
     "output_type": "execute_result"
    }
   ],
   "source": [
    "card_inv_image_B"
   ]
  },
  {
   "cell_type": "code",
   "execution_count": 42,
   "metadata": {},
   "outputs": [
    {
     "data": {
      "text/plain": [
       "[103842000.00006227,\n",
       " 71584800.0,\n",
       " 71584800.0,\n",
       " 71668800.00000021,\n",
       " 101310000.00004384,\n",
       " 101310000.00004384,\n",
       " 101310000.00004384]"
      ]
     },
     "execution_count": 42,
     "metadata": {},
     "output_type": "execute_result"
    }
   ],
   "source": [
    "alpha_DiamObs.append(np.max(distance))\n",
    "alpha_DiamObs"
   ]
  },
  {
   "cell_type": "markdown",
   "metadata": {},
   "source": [
    "# alpha = 0.07"
   ]
  },
  {
   "cell_type": "code",
   "execution_count": 43,
   "metadata": {},
   "outputs": [
    {
     "data": {
      "text/plain": [
       "101310000.00004384"
      ]
     },
     "execution_count": 43,
     "metadata": {},
     "output_type": "execute_result"
    }
   ],
   "source": [
    "card_inv_image_B = 0.07*amazon_card\n",
    "card_inv_image_B = round(card_inv_image_B)\n",
    "card_inv_image_B\n",
    "\n",
    "length = range(0,card_inv_image_B)\n",
    "Bs = []\n",
    "for i in length:\n",
    "    B=amazon.iloc[i:card_inv_image_B+i]\n",
    "    Bs.append(B)\n",
    "\n",
    "distance = []\n",
    "for b in Bs:\n",
    "    dist_B = pdist(b.values, metric='euclidean')\n",
    "    distance.append(dist_B)\n",
    "np.max(distance)"
   ]
  },
  {
   "cell_type": "code",
   "execution_count": 44,
   "metadata": {},
   "outputs": [
    {
     "data": {
      "text/plain": [
       "431"
      ]
     },
     "execution_count": 44,
     "metadata": {},
     "output_type": "execute_result"
    }
   ],
   "source": [
    "card_inv_image_B"
   ]
  },
  {
   "cell_type": "code",
   "execution_count": 45,
   "metadata": {},
   "outputs": [
    {
     "data": {
      "text/plain": [
       "[103842000.00006227,\n",
       " 71584800.0,\n",
       " 71584800.0,\n",
       " 71668800.00000021,\n",
       " 101310000.00004384,\n",
       " 101310000.00004384,\n",
       " 101310000.00004384,\n",
       " 101310000.00004384]"
      ]
     },
     "execution_count": 45,
     "metadata": {},
     "output_type": "execute_result"
    }
   ],
   "source": [
    "alpha_DiamObs.append(np.max(distance))\n",
    "alpha_DiamObs"
   ]
  },
  {
   "cell_type": "markdown",
   "metadata": {},
   "source": [
    "# alpha = 0.08"
   ]
  },
  {
   "cell_type": "code",
   "execution_count": 46,
   "metadata": {},
   "outputs": [
    {
     "data": {
      "text/plain": [
       "101310000.00004384"
      ]
     },
     "execution_count": 46,
     "metadata": {},
     "output_type": "execute_result"
    }
   ],
   "source": [
    "card_inv_image_B = 0.08*amazon_card\n",
    "card_inv_image_B = round(card_inv_image_B)\n",
    "card_inv_image_B\n",
    "\n",
    "length = range(0,card_inv_image_B)\n",
    "Bs = []\n",
    "for i in length:\n",
    "    B=amazon.iloc[i:card_inv_image_B+i]\n",
    "    Bs.append(B)\n",
    "\n",
    "distance = []\n",
    "for b in Bs:\n",
    "    dist_B = pdist(b.values, metric='euclidean')\n",
    "    distance.append(dist_B)\n",
    "np.max(distance)"
   ]
  },
  {
   "cell_type": "code",
   "execution_count": 47,
   "metadata": {},
   "outputs": [
    {
     "data": {
      "text/plain": [
       "492"
      ]
     },
     "execution_count": 47,
     "metadata": {},
     "output_type": "execute_result"
    }
   ],
   "source": [
    "card_inv_image_B"
   ]
  },
  {
   "cell_type": "code",
   "execution_count": 48,
   "metadata": {},
   "outputs": [
    {
     "data": {
      "text/plain": [
       "[103842000.00006227,\n",
       " 71584800.0,\n",
       " 71584800.0,\n",
       " 71668800.00000021,\n",
       " 101310000.00004384,\n",
       " 101310000.00004384,\n",
       " 101310000.00004384,\n",
       " 101310000.00004384,\n",
       " 101310000.00004384]"
      ]
     },
     "execution_count": 48,
     "metadata": {},
     "output_type": "execute_result"
    }
   ],
   "source": [
    "alpha_DiamObs.append(np.max(distance))\n",
    "alpha_DiamObs"
   ]
  },
  {
   "cell_type": "markdown",
   "metadata": {},
   "source": [
    "# alpha = 0.09"
   ]
  },
  {
   "cell_type": "code",
   "execution_count": 49,
   "metadata": {},
   "outputs": [
    {
     "data": {
      "text/plain": [
       "101310000.00004384"
      ]
     },
     "execution_count": 49,
     "metadata": {},
     "output_type": "execute_result"
    }
   ],
   "source": [
    "card_inv_image_B = 0.09*amazon_card\n",
    "card_inv_image_B = round(card_inv_image_B)\n",
    "card_inv_image_B\n",
    "\n",
    "length = range(0,card_inv_image_B)\n",
    "Bs = []\n",
    "for i in length:\n",
    "    B=amazon.iloc[i:card_inv_image_B+i]\n",
    "    Bs.append(B)\n",
    "\n",
    "distance = []\n",
    "for b in Bs:\n",
    "    dist_B = pdist(b.values, metric='euclidean')\n",
    "    distance.append(dist_B)\n",
    "np.max(distance)"
   ]
  },
  {
   "cell_type": "code",
   "execution_count": 50,
   "metadata": {},
   "outputs": [
    {
     "data": {
      "text/plain": [
       "554"
      ]
     },
     "execution_count": 50,
     "metadata": {},
     "output_type": "execute_result"
    }
   ],
   "source": [
    "card_inv_image_B"
   ]
  },
  {
   "cell_type": "code",
   "execution_count": 51,
   "metadata": {},
   "outputs": [
    {
     "data": {
      "text/plain": [
       "[103842000.00006227,\n",
       " 71584800.0,\n",
       " 71584800.0,\n",
       " 71668800.00000021,\n",
       " 101310000.00004384,\n",
       " 101310000.00004384,\n",
       " 101310000.00004384,\n",
       " 101310000.00004384,\n",
       " 101310000.00004384,\n",
       " 101310000.00004384]"
      ]
     },
     "execution_count": 51,
     "metadata": {},
     "output_type": "execute_result"
    }
   ],
   "source": [
    "alpha_DiamObs.append(np.max(distance))\n",
    "alpha_DiamObs"
   ]
  },
  {
   "cell_type": "markdown",
   "metadata": {},
   "source": [
    "# alpha = 0.1"
   ]
  },
  {
   "cell_type": "code",
   "execution_count": 52,
   "metadata": {},
   "outputs": [
    {
     "data": {
      "text/plain": [
       "101310000.00004384"
      ]
     },
     "execution_count": 52,
     "metadata": {},
     "output_type": "execute_result"
    }
   ],
   "source": [
    "card_inv_image_B = 0.1*amazon_card\n",
    "card_inv_image_B = round(card_inv_image_B)\n",
    "card_inv_image_B\n",
    "\n",
    "length = range(0,card_inv_image_B)\n",
    "Bs = []\n",
    "for i in length:\n",
    "    B=amazon.iloc[i:card_inv_image_B+i]\n",
    "    Bs.append(B)\n",
    "\n",
    "distance = []\n",
    "for b in Bs:\n",
    "    dist_B = pdist(b.values, metric='euclidean')\n",
    "    distance.append(dist_B)\n",
    "np.max(distance)"
   ]
  },
  {
   "cell_type": "code",
   "execution_count": 53,
   "metadata": {},
   "outputs": [
    {
     "data": {
      "text/plain": [
       "616"
      ]
     },
     "execution_count": 53,
     "metadata": {},
     "output_type": "execute_result"
    }
   ],
   "source": [
    "card_inv_image_B"
   ]
  },
  {
   "cell_type": "code",
   "execution_count": 54,
   "metadata": {},
   "outputs": [
    {
     "data": {
      "text/plain": [
       "[103842000.00006227,\n",
       " 71584800.0,\n",
       " 71584800.0,\n",
       " 71668800.00000021,\n",
       " 101310000.00004384,\n",
       " 101310000.00004384,\n",
       " 101310000.00004384,\n",
       " 101310000.00004384,\n",
       " 101310000.00004384,\n",
       " 101310000.00004384,\n",
       " 101310000.00004384]"
      ]
     },
     "execution_count": 54,
     "metadata": {},
     "output_type": "execute_result"
    }
   ],
   "source": [
    "alpha_DiamObs.append(np.max(distance))\n",
    "alpha_DiamObs"
   ]
  },
  {
   "cell_type": "markdown",
   "metadata": {},
   "source": [
    "# alpha = 0.11"
   ]
  },
  {
   "cell_type": "code",
   "execution_count": 55,
   "metadata": {},
   "outputs": [
    {
     "data": {
      "text/plain": [
       "101310000.00004384"
      ]
     },
     "execution_count": 55,
     "metadata": {},
     "output_type": "execute_result"
    }
   ],
   "source": [
    "card_inv_image_B = 0.11*amazon_card\n",
    "card_inv_image_B = round(card_inv_image_B)\n",
    "card_inv_image_B\n",
    "\n",
    "length = range(0,card_inv_image_B)\n",
    "Bs = []\n",
    "for i in length:\n",
    "    B=amazon.iloc[i:card_inv_image_B+i]\n",
    "    Bs.append(B)\n",
    "\n",
    "distance = []\n",
    "for b in Bs:\n",
    "    dist_B = pdist(b.values, metric='euclidean')\n",
    "    distance.append(dist_B)\n",
    "np.max(distance)"
   ]
  },
  {
   "cell_type": "code",
   "execution_count": 56,
   "metadata": {},
   "outputs": [
    {
     "data": {
      "text/plain": [
       "677"
      ]
     },
     "execution_count": 56,
     "metadata": {},
     "output_type": "execute_result"
    }
   ],
   "source": [
    "card_inv_image_B"
   ]
  },
  {
   "cell_type": "code",
   "execution_count": 57,
   "metadata": {},
   "outputs": [
    {
     "data": {
      "text/plain": [
       "[103842000.00006227,\n",
       " 71584800.0,\n",
       " 71584800.0,\n",
       " 71668800.00000021,\n",
       " 101310000.00004384,\n",
       " 101310000.00004384,\n",
       " 101310000.00004384,\n",
       " 101310000.00004384,\n",
       " 101310000.00004384,\n",
       " 101310000.00004384,\n",
       " 101310000.00004384,\n",
       " 101310000.00004384]"
      ]
     },
     "execution_count": 57,
     "metadata": {},
     "output_type": "execute_result"
    }
   ],
   "source": [
    "alpha_DiamObs.append(np.max(distance))\n",
    "alpha_DiamObs"
   ]
  },
  {
   "cell_type": "markdown",
   "metadata": {},
   "source": [
    "# alpha = 0.12"
   ]
  },
  {
   "cell_type": "code",
   "execution_count": 58,
   "metadata": {},
   "outputs": [
    {
     "data": {
      "text/plain": [
       "101310000.00004384"
      ]
     },
     "execution_count": 58,
     "metadata": {},
     "output_type": "execute_result"
    }
   ],
   "source": [
    "card_inv_image_B = 0.12*amazon_card\n",
    "card_inv_image_B = round(card_inv_image_B)\n",
    "card_inv_image_B\n",
    "\n",
    "length = range(0,card_inv_image_B)\n",
    "Bs = []\n",
    "for i in length:\n",
    "    B=amazon.iloc[i:card_inv_image_B+i]\n",
    "    Bs.append(B)\n",
    "\n",
    "distance = []\n",
    "for b in Bs:\n",
    "    dist_B = pdist(b.values, metric='euclidean')\n",
    "    distance.append(dist_B)\n",
    "np.max(distance)"
   ]
  },
  {
   "cell_type": "code",
   "execution_count": 59,
   "metadata": {},
   "outputs": [
    {
     "data": {
      "text/plain": [
       "739"
      ]
     },
     "execution_count": 59,
     "metadata": {},
     "output_type": "execute_result"
    }
   ],
   "source": [
    "card_inv_image_B"
   ]
  },
  {
   "cell_type": "code",
   "execution_count": 60,
   "metadata": {},
   "outputs": [
    {
     "data": {
      "text/plain": [
       "[103842000.00006227,\n",
       " 71584800.0,\n",
       " 71584800.0,\n",
       " 71668800.00000021,\n",
       " 101310000.00004384,\n",
       " 101310000.00004384,\n",
       " 101310000.00004384,\n",
       " 101310000.00004384,\n",
       " 101310000.00004384,\n",
       " 101310000.00004384,\n",
       " 101310000.00004384,\n",
       " 101310000.00004384,\n",
       " 101310000.00004384]"
      ]
     },
     "execution_count": 60,
     "metadata": {},
     "output_type": "execute_result"
    }
   ],
   "source": [
    "alpha_DiamObs.append(np.max(distance))\n",
    "alpha_DiamObs"
   ]
  },
  {
   "cell_type": "markdown",
   "metadata": {},
   "source": [
    "# alpha = 0.13"
   ]
  },
  {
   "cell_type": "code",
   "execution_count": 61,
   "metadata": {},
   "outputs": [
    {
     "data": {
      "text/plain": [
       "101310000.00004384"
      ]
     },
     "execution_count": 61,
     "metadata": {},
     "output_type": "execute_result"
    }
   ],
   "source": [
    "card_inv_image_B = 0.13*amazon_card\n",
    "card_inv_image_B = round(card_inv_image_B)\n",
    "card_inv_image_B\n",
    "\n",
    "length = range(0,card_inv_image_B)\n",
    "Bs = []\n",
    "for i in length:\n",
    "    B=amazon.iloc[i:card_inv_image_B+i]\n",
    "    Bs.append(B)\n",
    "\n",
    "distance = []\n",
    "for b in Bs:\n",
    "    dist_B = pdist(b.values, metric='euclidean')\n",
    "    distance.append(dist_B)\n",
    "np.max(distance)"
   ]
  },
  {
   "cell_type": "code",
   "execution_count": 62,
   "metadata": {},
   "outputs": [
    {
     "data": {
      "text/plain": [
       "800"
      ]
     },
     "execution_count": 62,
     "metadata": {},
     "output_type": "execute_result"
    }
   ],
   "source": [
    "card_inv_image_B"
   ]
  },
  {
   "cell_type": "code",
   "execution_count": 63,
   "metadata": {},
   "outputs": [
    {
     "data": {
      "text/plain": [
       "[103842000.00006227,\n",
       " 71584800.0,\n",
       " 71584800.0,\n",
       " 71668800.00000021,\n",
       " 101310000.00004384,\n",
       " 101310000.00004384,\n",
       " 101310000.00004384,\n",
       " 101310000.00004384,\n",
       " 101310000.00004384,\n",
       " 101310000.00004384,\n",
       " 101310000.00004384,\n",
       " 101310000.00004384,\n",
       " 101310000.00004384,\n",
       " 101310000.00004384]"
      ]
     },
     "execution_count": 63,
     "metadata": {},
     "output_type": "execute_result"
    }
   ],
   "source": [
    "alpha_DiamObs.append(np.max(distance))\n",
    "alpha_DiamObs"
   ]
  },
  {
   "cell_type": "markdown",
   "metadata": {},
   "source": [
    "# alpha = 0.14"
   ]
  },
  {
   "cell_type": "code",
   "execution_count": 64,
   "metadata": {},
   "outputs": [
    {
     "data": {
      "text/plain": [
       "101310000.00004384"
      ]
     },
     "execution_count": 64,
     "metadata": {},
     "output_type": "execute_result"
    }
   ],
   "source": [
    "card_inv_image_B = 0.14*amazon_card\n",
    "card_inv_image_B = round(card_inv_image_B)\n",
    "card_inv_image_B\n",
    "\n",
    "length = range(0,card_inv_image_B)\n",
    "Bs = []\n",
    "for i in length:\n",
    "    B=amazon.iloc[i:card_inv_image_B+i]\n",
    "    Bs.append(B)\n",
    "\n",
    "distance = []\n",
    "for b in Bs:\n",
    "    dist_B = pdist(b.values, metric='euclidean')\n",
    "    distance.append(dist_B)\n",
    "np.max(distance)"
   ]
  },
  {
   "cell_type": "code",
   "execution_count": 65,
   "metadata": {},
   "outputs": [
    {
     "data": {
      "text/plain": [
       "862"
      ]
     },
     "execution_count": 65,
     "metadata": {},
     "output_type": "execute_result"
    }
   ],
   "source": [
    "card_inv_image_B"
   ]
  },
  {
   "cell_type": "code",
   "execution_count": 66,
   "metadata": {},
   "outputs": [
    {
     "data": {
      "text/plain": [
       "[103842000.00006227,\n",
       " 71584800.0,\n",
       " 71584800.0,\n",
       " 71668800.00000021,\n",
       " 101310000.00004384,\n",
       " 101310000.00004384,\n",
       " 101310000.00004384,\n",
       " 101310000.00004384,\n",
       " 101310000.00004384,\n",
       " 101310000.00004384,\n",
       " 101310000.00004384,\n",
       " 101310000.00004384,\n",
       " 101310000.00004384,\n",
       " 101310000.00004384,\n",
       " 101310000.00004384]"
      ]
     },
     "execution_count": 66,
     "metadata": {},
     "output_type": "execute_result"
    }
   ],
   "source": [
    "alpha_DiamObs.append(np.max(distance))\n",
    "alpha_DiamObs"
   ]
  },
  {
   "cell_type": "markdown",
   "metadata": {},
   "source": [
    "# Alpha = 0.15"
   ]
  },
  {
   "cell_type": "code",
   "execution_count": 67,
   "metadata": {},
   "outputs": [
    {
     "data": {
      "text/plain": [
       "101310000.00004384"
      ]
     },
     "execution_count": 67,
     "metadata": {},
     "output_type": "execute_result"
    }
   ],
   "source": [
    "card_inv_image_B = 0.15*amazon_card\n",
    "card_inv_image_B = round(card_inv_image_B)\n",
    "card_inv_image_B\n",
    "\n",
    "length = range(0,card_inv_image_B)\n",
    "Bs = []\n",
    "for i in length:\n",
    "    B=amazon.iloc[i:card_inv_image_B+i]\n",
    "    Bs.append(B)\n",
    "\n",
    "distance = []\n",
    "for b in Bs:\n",
    "    dist_B = pdist(b.values, metric='euclidean')\n",
    "    distance.append(dist_B)\n",
    "np.max(distance)"
   ]
  },
  {
   "cell_type": "code",
   "execution_count": 68,
   "metadata": {},
   "outputs": [
    {
     "data": {
      "text/plain": [
       "923"
      ]
     },
     "execution_count": 68,
     "metadata": {},
     "output_type": "execute_result"
    }
   ],
   "source": [
    "card_inv_image_B"
   ]
  },
  {
   "cell_type": "code",
   "execution_count": 69,
   "metadata": {},
   "outputs": [
    {
     "data": {
      "text/plain": [
       "[103842000.00006227,\n",
       " 71584800.0,\n",
       " 71584800.0,\n",
       " 71668800.00000021,\n",
       " 101310000.00004384,\n",
       " 101310000.00004384,\n",
       " 101310000.00004384,\n",
       " 101310000.00004384,\n",
       " 101310000.00004384,\n",
       " 101310000.00004384,\n",
       " 101310000.00004384,\n",
       " 101310000.00004384,\n",
       " 101310000.00004384,\n",
       " 101310000.00004384,\n",
       " 101310000.00004384,\n",
       " 101310000.00004384]"
      ]
     },
     "execution_count": 69,
     "metadata": {},
     "output_type": "execute_result"
    }
   ],
   "source": [
    "alpha_DiamObs.append(np.max(distance))\n",
    "alpha_DiamObs"
   ]
  },
  {
   "cell_type": "markdown",
   "metadata": {},
   "source": [
    "# Visualization alpha x DiamObs"
   ]
  },
  {
   "cell_type": "code",
   "execution_count": 70,
   "metadata": {},
   "outputs": [],
   "source": [
    "alpha_DiamObs = pd.DataFrame(alpha_DiamObs)"
   ]
  },
  {
   "cell_type": "code",
   "execution_count": 71,
   "metadata": {
    "scrolled": false
   },
   "outputs": [],
   "source": [
    "alpha_range = range(0,16,1)\n",
    "list_alpha=[]\n",
    "for i in alpha_range:\n",
    "    list_alpha.append(i*0.01)"
   ]
  },
  {
   "cell_type": "code",
   "execution_count": 72,
   "metadata": {},
   "outputs": [],
   "source": [
    "alpha_DiamObs['alpha'] = list_alpha"
   ]
  },
  {
   "cell_type": "code",
   "execution_count": 86,
   "metadata": {},
   "outputs": [],
   "source": [
    "alpha_DiamObs.columns=['DiamObs', 'alpha']"
   ]
  },
  {
   "cell_type": "code",
   "execution_count": 80,
   "metadata": {},
   "outputs": [],
   "source": [
    "import seaborn as sns \n",
    "import matplotlib.pyplot as plt"
   ]
  },
  {
   "cell_type": "code",
   "execution_count": 90,
   "metadata": {},
   "outputs": [
    {
     "data": {
      "text/plain": [
       "<matplotlib.collections.PathCollection at 0x2546ee0b220>"
      ]
     },
     "execution_count": 90,
     "metadata": {},
     "output_type": "execute_result"
    },
    {
     "data": {
      "image/png": "[encoded data removed]",
      "text/plain": [
       "<Figure size 432x288 with 1 Axes>"
      ]
     },
     "metadata": {
      "needs_background": "light"
     },
     "output_type": "display_data"
    }
   ],
   "source": [
    "plt.scatter(alpha_DiamObs['alpha'], alpha_DiamObs['DiamObs'])"
   ]
  },
  {
   "cell_type": "code",
   "execution_count": null,
   "metadata": {},
   "outputs": [],
   "source": []
  },
  {
   "cell_type": "code",
   "execution_count": null,
   "metadata": {},
   "outputs": [],
   "source": []
  }
 ],
 "metadata": {
  "kernelspec": {
   "display_name": "Python 3",
   "language": "python",
   "name": "python3"
  },
  "language_info": {
   "codemirror_mode": {
    "name": "ipython",
    "version": 3
   },
   "file_extension": ".py",
   "mimetype": "text/x-python",
   "name": "python",
   "nbconvert_exporter": "python",
   "pygments_lexer": "ipython3",
   "version": "3.8.5"
  }
 },
 "nbformat": 4,
 "nbformat_minor": 4
}
